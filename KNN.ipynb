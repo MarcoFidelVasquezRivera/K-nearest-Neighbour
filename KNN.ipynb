{
  "nbformat": 4,
  "nbformat_minor": 0,
  "metadata": {
    "colab": {
      "name": "KNN.ipynb",
      "provenance": [],
      "collapsed_sections": [],
      "include_colab_link": true
    },
    "kernelspec": {
      "name": "python3",
      "display_name": "Python 3"
    }
  },
  "cells": [
    {
      "cell_type": "markdown",
      "metadata": {
        "id": "view-in-github",
        "colab_type": "text"
      },
      "source": [
        "<a href=\"https://colab.research.google.com/github/MarcoFidelVasquezRivera/K-nearest-Neighbour/blob/Marco/KNN.ipynb\" target=\"_parent\"><img src=\"https://colab.research.google.com/assets/colab-badge.svg\" alt=\"Open In Colab\"/></a>"
      ]
    },
    {
      "cell_type": "code",
      "metadata": {
        "id": "W6I0ZvlANWLG"
      },
      "source": [
        "import numpy as np\n",
        "import pandas as pd\n",
        "import sklearn #se importa para obtener un dataset\n",
        "import matplotlib.pyplot as plt#se importa para poder realizar la gráfica con los datos\n",
        "\n",
        "from sklearn import datasets\n",
        "#obtiene los datos desde iris\n",
        "iris = datasets.load_iris()"
      ],
      "execution_count": 129,
      "outputs": []
    },
    {
      "cell_type": "code",
      "metadata": {
        "id": "8fQCZ8yKcwnb",
        "colab": {
          "base_uri": "https://localhost:8080/",
          "height": 286
        },
        "outputId": "64109604-8a68-4292-9e0f-3bef9f8b9890"
      },
      "source": [
        "X = iris.data[:, :2]\n",
        "Y = iris.target\n",
        "plt.scatter(X[:,0],X[:,1])"
      ],
      "execution_count": 115,
      "outputs": [
        {
          "output_type": "execute_result",
          "data": {
            "text/plain": [
              "<matplotlib.collections.PathCollection at 0x7fa68c4b8f98>"
            ]
          },
          "metadata": {
            "tags": []
          },
          "execution_count": 115
        },
        {
          "output_type": "display_data",
          "data": {
            "image/png": "[encoded data removed]",
            "text/plain": [
              "<Figure size 432x288 with 1 Axes>"
            ]
          },
          "metadata": {
            "tags": [],
            "needs_background": "light"
          }
        }
      ]
    },
    {
      "cell_type": "code",
      "metadata": {
        "id": "HLCajQ7WeBv6"
      },
      "source": [
        "import math\n",
        "#definimos la clase KNN\n",
        "class KNN:\n",
        "\n",
        "  def __init__(self,k):\n",
        "    self.k = k\n",
        "\n",
        "  def euclidean_distance(self, idx1, idx2, data, axis=0):\n",
        "    \"\"\"    Returns the euclidean distance between x and y.\n",
        "\n",
        "            Preconditions:\n",
        "                    the dimensions of x and y must be the same\n",
        "\n",
        "            Parameters:\n",
        "                    x (n-dimensional numpy array): an array of integers\n",
        "                    y (n-dimensional numpy array): an array of integers\n",
        "                    axis (int): axis in which we are working\n",
        "\n",
        "            Returns:\n",
        "                    int): distance between x and y on the axis axis.\n",
        "    \"\"\"\n",
        "    return np.linalg.norm( data[idx1] - data[idx2], axis=axis)\n",
        "\n",
        "  def get_k_nearest_neighboors(self, idx, data):\n",
        "        \"\"\"\n",
        "        Returns the K nearest neighboors of the point.\n",
        "\n",
        "        Preconditions:\n",
        "                the dimensions of point and the points on data must be the same\n",
        "\n",
        "        Parameters:\n",
        "                idx (int): the index of the point which we are going to get the distance with the other points\n",
        "                data: an n-dimensional numpy array\n",
        "        Postcondition:\n",
        "                the distance of this point to itself is not going to be returned\n",
        "        Returns:\n",
        "                idxs (int): an array whit the indexes of the k nearest neighboors of the point with index idx.\n",
        "        \"\"\"\n",
        "        # Calculate the distances from datapoint in idx with every other datapoint in data \n",
        "        distances = np.array([  self.euclidean_distance(idx, i, data) for i in range(len(data)) ])\n",
        "        # Maps from distance to the index in data excluding idx\n",
        "        index_distance = dict((distance, index) for index, distance in enumerate(distances) if index != idx)\n",
        "        distances = np.delete(distances, idx)\n",
        "        distances.sort()\n",
        "        top_k_nearest_neighbors = np.array([ index_distance[distance] for distance in distances])\n",
        "        response = []\n",
        "\n",
        "        i = 0\n",
        "        # This ensures that only non-duplicate indexes are returned\n",
        "        while len(response) < self.k:\n",
        "          kth_nearest = top_k_nearest_neighbors[i]\n",
        "          if kth_nearest not in response:\n",
        "            response.append(kth_nearest)\n",
        "          i+=1\n",
        "        return np.array(response)\n",
        "\n",
        "  def set_point_target(self,indexes,target_data):\n",
        "    #falta hacer la documentación\n",
        "    frequency = dict((k,0) for k in target_data)\n",
        "\n",
        "    for index in indexes:\n",
        "      result = target_data[index]\n",
        "      frequency[result]+=1\n",
        "    \n",
        "    most_freq = -1\n",
        "    classfreq = -1\n",
        "    for clas,freq in frequency.items():\n",
        "      if freq > most_freq:\n",
        "        most_freq = freq\n",
        "        classfreq = clas\n",
        "\n",
        "    return classfreq\n",
        "\n",
        "    # fit\n",
        "  def fit(self, X, targets):\n",
        "    # k \n",
        "    self.data = X\n",
        "    self.index_to_class = {} # inicializa un arreglo que mapea, desde los indixes\n",
        "    for datapoint_idx in range(len(X)):\n",
        "      k_nearest = self.get_k_nearest_neighboors(datapoint_idx,self.data)\n",
        "      classfreq = self.set_point_target(k_nearest,targets)\n",
        "      self.index_to_class[datapoint_idx] = classfreq\n",
        "    self.targets = targets\n",
        "\n",
        "  def predict(self,datapoint):\n",
        "    predictions = []\n",
        "    if datapoint.shape[-1]==self.data.shape[-1]:\n",
        "\n",
        "\n",
        "      for datapoint_idx in range(len(datapoint)):\n",
        "        expanded_i_datapoint = np.expand_dims(datapoint[datapoint_idx],0)\n",
        "        matrix = np.concatenate((self.data,expanded_i_datapoint),0)\n",
        "        k_nearest = self.get_k_nearest_neighboors(matrix.shape[0]-1,matrix)\n",
        "        classfreq = self.set_point_target(k_nearest,self.targets)\n",
        "        predictions.append(classfreq)\n",
        "    return np.array(predictions)\n",
        "\n"
      ],
      "execution_count": 156,
      "outputs": []
    },
    {
      "cell_type": "code",
      "metadata": {
        "id": "4h1pjba2wouz"
      },
      "source": [
        "n_train_samples = int((X.shape[0])*0.8)\n",
        "random_indexes = np.arange(X.shape[0]-1)\n",
        "np.random.shuffle(random_indexes)\n",
        "\n",
        "indexes_train = random_indexes[:n_train_samples]\n",
        "indexes_test = random_indexes[n_train_samples:]\n",
        "#se sacan los datos para entrenar y para probar el algoritmo\n",
        "x_train = X[indexes_train]\n",
        "x_test = X[indexes_test]\n",
        "\n",
        "y_train = Y[indexes_train]\n",
        "y_test = Y[indexes_test]"
      ],
      "execution_count": 157,
      "outputs": []
    },
    {
      "cell_type": "code",
      "metadata": {
        "id": "K_xuAKShflBq"
      },
      "source": [
        "#lo probamos haciendo uso de la base de datos cargada anteriormente\n",
        "knn = KNN(30)\n",
        "knn.fit(x_train,y_train)"
      ],
      "execution_count": 177,
      "outputs": []
    },
    {
      "cell_type": "code",
      "metadata": {
        "id": "EmDOiv1vkAv5"
      },
      "source": [
        "y_hat = knn.predict(x_test)"
      ],
      "execution_count": 178,
      "outputs": []
    },
    {
      "cell_type": "code",
      "metadata": {
        "colab": {
          "base_uri": "https://localhost:8080/"
        },
        "id": "UniobjecCec1",
        "outputId": "dc076977-4741-4ba2-eecb-c0d83568f58d"
      },
      "source": [
        "n_correct = (y_hat==y_test).sum()\n",
        "correct_ratio = n_correct/len(y_test)\n",
        "correct_ratio"
      ],
      "execution_count": 179,
      "outputs": [
        {
          "output_type": "execute_result",
          "data": {
            "text/plain": [
              "0.7586206896551724"
            ]
          },
          "metadata": {
            "tags": []
          },
          "execution_count": 179
        }
      ]
    },
    {
      "cell_type": "code",
      "metadata": {
        "id": "4pvY0iVSE6xW"
      },
      "source": [
        "def get_accuracy(k):\n",
        "  knn = KNN(k)\n",
        "  knn.fit(x_train,y_train)\n",
        "  y_hat = knn.predict(x_test)\n",
        "  n_correct = (y_hat==y_test).sum()\n",
        "  correct_ratio = n_correct/len(y_test)\n",
        "  return correct_ratio"
      ],
      "execution_count": 182,
      "outputs": []
    },
    {
      "cell_type": "code",
      "metadata": {
        "id": "OI1CcEKKFQUK",
        "outputId": "5a86867e-f66c-4704-f396-e9ef7c5d8fe1",
        "colab": {
          "base_uri": "https://localhost:8080/",
          "height": 283
        }
      },
      "source": [
        "n_k = np.arange(30)\n",
        "accuracies = [get_accuracy(k) for k in n_k]\n",
        "plt.plot(n_k,accuracies)"
      ],
      "execution_count": 183,
      "outputs": [
        {
          "output_type": "execute_result",
          "data": {
            "text/plain": [
              "[<matplotlib.lines.Line2D at 0x7fa68c2db550>]"
            ]
          },
          "metadata": {
            "tags": []
          },
          "execution_count": 183
        },
        {
          "output_type": "display_data",
          "data": {
            "image/png": "[encoded data removed]",
            "text/plain": [
              "<Figure size 432x288 with 1 Axes>"
            ]
          },
          "metadata": {
            "tags": [],
            "needs_background": "light"
          }
        }
      ]
    }
  ]
}