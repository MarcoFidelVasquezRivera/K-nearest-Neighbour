{
  "nbformat": 4,
  "nbformat_minor": 0,
  "metadata": {
    "colab": {
      "name": "KNN.ipynb",
      "provenance": [],
      "collapsed_sections": [],
      "include_colab_link": true
    },
    "kernelspec": {
      "name": "python3",
      "display_name": "Python 3"
    }
  },
  "cells": [
    {
      "cell_type": "markdown",
      "metadata": {
        "id": "view-in-github",
        "colab_type": "text"
      },
      "source": [
        "<a href=\"https://colab.research.google.com/github/MarcoFidelVasquezRivera/K-nearest-Neighbour/blob/Marco/KNN.ipynb\" target=\"_parent\"><img src=\"https://colab.research.google.com/assets/colab-badge.svg\" alt=\"Open In Colab\"/></a>"
      ]
    },
    {
      "cell_type": "code",
      "metadata": {
        "id": "W6I0ZvlANWLG"
      },
      "source": [
        "import numpy as np\n",
        "import pandas as pd\n",
        "import sklearn #se importa para obtener un dataset\n",
        "import matplotlib.pyplot as plt#se importa para poder realizar la gráfica con los datos\n",
        "\n",
        "from sklearn import datasets\n",
        "#obtiene los datos desde iris\n",
        "iris = datasets.load_iris()\n",
        "iris"
      ],
      "execution_count": null,
      "outputs": []
    },
    {
      "cell_type": "code",
      "metadata": {
        "id": "8fQCZ8yKcwnb"
      },
      "source": [
        "X = iris.data[:, :2]\n",
        "Y = iris.target\n",
        "plt.scatter(X[:,0],X[:,1])"
      ],
      "execution_count": null,
      "outputs": []
    },
    {
      "cell_type": "code",
      "metadata": {
        "id": "HLCajQ7WeBv6"
      },
      "source": [
        "import math\n",
        "#definimos la clase KNN\n",
        "class KNN:\n",
        "\n",
        "  def __init__(self,k):\n",
        "    self.k = k\n",
        "\n",
        "  def euclidean_distance(self, idx1, idx2, data, axis=0):\n",
        "    \"\"\"    Returns the euclidean distance between x and y.\n",
        "\n",
        "            Preconditions:\n",
        "                    the dimensions of x and y must be the same\n",
        "\n",
        "            Parameters:\n",
        "                    x (n-dimensional numpy array): an array of integers\n",
        "                    y (n-dimensional numpy array): an array of integers\n",
        "                    axis (int): axis in which we are working\n",
        "\n",
        "            Returns:\n",
        "                    int): distance between x and y on the axis axis.\n",
        "    \"\"\"\n",
        "    return np.linalg.norm( data[idx1] - data[idx2], axis=axis)\n",
        "\n",
        "  def get_k_nearest_neighboors(self, idx, data):\n",
        "        \"\"\"\n",
        "        Returns the K nearest neighboors of the point.\n",
        "\n",
        "        Preconditions:\n",
        "                the dimensions of point and the points on data must be the same\n",
        "\n",
        "        Parameters:\n",
        "                idx (int): the index of the point which we are going to get the distance with the other points\n",
        "                data: an n-dimensional numpy array\n",
        "        Postcondition:\n",
        "                the distance of this point to itself is not going to be returned\n",
        "        Returns:\n",
        "                idxs (int): an array whit the indexes of the k nearest neighboors of the point with index idx.\n",
        "        \"\"\"\n",
        "        # Calculate the distances from datapoint in idx with every other datapoint in data \n",
        "        distances = np.array([  self.euclidean_distance(idx, i, data) for i in range(len(data)) ])\n",
        "        # Maps from distance to the index in data excluding idx\n",
        "        index_distance = dict((distance, index) for index, distance in enumerate(distances) if index != idx)\n",
        "        distances = np.delete(distances, idx)\n",
        "        distances.sort()\n",
        "        top_k_nearest_neighbors = np.array([ index_distance[distance] for distance in distances])\n",
        "        response = []\n",
        "\n",
        "        i = 0\n",
        "        # This ensures that only non-duplicate indexes are returned\n",
        "        while len(response) < self.k:\n",
        "          kth_nearest = top_k_nearest_neighbors[i]\n",
        "          if kth_nearest not in response:\n",
        "            response.append(kth_nearest)\n",
        "          i+=1\n",
        "        return np.array(response)\n",
        "\n",
        "  def set_point_target(self,indexes,target_data):\n",
        "    #falta hacer la documentación\n",
        "    frequency = dict((k,0) for k in target_data)\n",
        "\n",
        "    for index in indexes:\n",
        "      result = target_data[index]\n",
        "      frequency[result]+=1\n",
        "    \n",
        "    most_freq = -1\n",
        "    classfreq = -1\n",
        "    for clas,freq in frequency.items():\n",
        "      if freq > most_freq:\n",
        "        most_freq = freq\n",
        "        classfreq = clas\n",
        "\n",
        "    return classfreq\n",
        "\n",
        "    # fit\n",
        "  def fit(self, X, targets):\n",
        "    # k \n",
        "    self.data=X\n",
        "    self.index_to_class = {} # inicializa un arreglo que mapea, desde los indixes\n",
        "    for datapoint_idx in range(len(X)):\n",
        "      k_nearest = self.get_k_nearest_neighboors(datapoint_idx,self.data)\n",
        "      classfreq = self.set_point_target(k_nearest,targets)\n",
        "      self.index_to_class[datapoint_idx] = classfreq\n",
        "\n",
        "    #def predict():"
      ],
      "execution_count": 14,
      "outputs": []
    },
    {
      "cell_type": "code",
      "metadata": {
        "id": "4h1pjba2wouz"
      },
      "source": [
        "X.shape\n"
      ],
      "execution_count": null,
      "outputs": []
    },
    {
      "cell_type": "code",
      "metadata": {
        "id": "K_xuAKShflBq"
      },
      "source": [
        "#lo probamos haciendo uso de la base de datos cargada anteriormente\n",
        "knn = KNN(45)\n",
        "knn.fit(X,Y)"
      ],
      "execution_count": 15,
      "outputs": []
    },
    {
      "cell_type": "code",
      "metadata": {
        "id": "EmDOiv1vkAv5",
        "colab": {
          "base_uri": "https://localhost:8080/"
        },
        "outputId": "2a27bcbd-0011-4e85-a2db-bc0ac1c2927c"
      },
      "source": [
        "#lo probamos haciendo uso de una \"base de datos\" creada por nosotros\n",
        "testdb_two = np.array([[40.0,30.4],[4.0,5.0],[3.0,8.0],[4.0,10.2],[20.0,0.0],[3.0,8.1]])\n",
        "knn.get_k_nearest_neighboors(3,testdb_two)\n",
        "\n",
        "\n",
        "\n"
      ],
      "execution_count": null,
      "outputs": [
        {
          "output_type": "execute_result",
          "data": {
            "text/plain": [
              "array([5, 2, 1])"
            ]
          },
          "metadata": {
            "tags": []
          },
          "execution_count": 17
        }
      ]
    }
  ]
}