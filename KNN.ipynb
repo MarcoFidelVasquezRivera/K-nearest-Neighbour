{
  "nbformat": 4,
  "nbformat_minor": 0,
  "metadata": {
    "colab": {
      "name": "KNN.ipynb",
      "provenance": [],
      "collapsed_sections": [],
      "include_colab_link": true
    },
    "kernelspec": {
      "name": "python3",
      "display_name": "Python 3"
    }
  },
  "cells": [
    {
      "cell_type": "markdown",
      "metadata": {
        "id": "view-in-github",
        "colab_type": "text"
      },
      "source": [
        "<a href=\"https://colab.research.google.com/github/MarcoFidelVasquezRivera/K-nearest-Neighbour/blob/Marco/KNN.ipynb\" target=\"_parent\"><img src=\"https://colab.research.google.com/assets/colab-badge.svg\" alt=\"Open In Colab\"/></a>"
      ]
    },
    {
      "cell_type": "code",
      "metadata": {
        "id": "W6I0ZvlANWLG"
      },
      "source": [
        "import numpy as np\n",
        "import pandas as pd\n",
        "import sklearn #se importa para obtener un dataset\n",
        "import matplotlib.pyplot as plt#se importa para poder realizar la gráfica con los datos\n",
        "\n",
        "from sklearn import datasets\n",
        "#obtiene los datos desde iris\n",
        "iris = datasets.load_iris()\n",
        "iris"
      ],
      "execution_count": null,
      "outputs": []
    },
    {
      "cell_type": "code",
      "metadata": {
        "id": "8fQCZ8yKcwnb",
        "outputId": "e054968b-1233-4009-a819-18a7b7774973",
        "colab": {
          "base_uri": "https://localhost:8080/",
          "height": 286
        }
      },
      "source": [
        "X = iris.data[:, :2]\n",
        "Y = iris.target\n",
        "plt.scatter(X[:,0],X[:,1])"
      ],
      "execution_count": 2,
      "outputs": [
        {
          "output_type": "execute_result",
          "data": {
            "text/plain": [
              "<matplotlib.collections.PathCollection at 0x7f4354722470>"
            ]
          },
          "metadata": {
            "tags": []
          },
          "execution_count": 2
        },
        {
          "output_type": "display_data",
          "data": {
            "image/png": "[encoded data removed]",
            "text/plain": [
              "<Figure size 432x288 with 1 Axes>"
            ]
          },
          "metadata": {
            "tags": [],
            "needs_background": "light"
          }
        }
      ]
    },
    {
      "cell_type": "code",
      "metadata": {
        "id": "HLCajQ7WeBv6"
      },
      "source": [
        "import math\n",
        "#definimos la clase KNN\n",
        "class KNN:\n",
        "\n",
        "  def __init__(self,k):\n",
        "    self.k = k\n",
        "\n",
        "  def euclidean_distance(self, idx1, idx2, data, axis=0):\n",
        "    \"\"\"    Returns the euclidean distance between x and y.\n",
        "\n",
        "            Preconditions:\n",
        "                    the dimensions of x and y must be the same\n",
        "\n",
        "            Parameters:\n",
        "                    x (n-dimensional numpy array): an array of integers\n",
        "                    y (n-dimensional numpy array): an array of integers\n",
        "                    axis (int): axis in which we are working\n",
        "\n",
        "            Returns:\n",
        "                    int): distance between x and y on the axis axis.\n",
        "    \"\"\"\n",
        "    return np.linalg.norm( data[idx1] - data[idx2], axis=axis)\n",
        "\n",
        "  def get_k_nearest_neighbors(self, idx, data):\n",
        "        \"\"\"\n",
        "        Returns the K nearest neighboors of the point.\n",
        "\n",
        "        Preconditions:\n",
        "                the dimensions of point and the points on data must be the same\n",
        "\n",
        "        Parameters:\n",
        "                idx (int): the index of the point which we are going to get the distance with the other points\n",
        "                data: an n-dimensional numpy array\n",
        "        Postcondition:\n",
        "                the distance of this point to itself is not going to be returned\n",
        "        Returns:\n",
        "                idxs (int): an array whit the indexes of the k nearest neighboors of the point with index idx.\n",
        "        \"\"\"\n",
        "        # Initialize Python list\n",
        "        distances = []\n",
        "        # Populate list with distances from datapoint in data[idx] with all the other datapoints\n",
        "        for i in range(0, len(data)):\n",
        "          distance = self.euclidean_distance(idx, i, data)\n",
        "          distances.append(distance)\n",
        "        # Convert python list to numpy array\n",
        "        distances = np.array(distances)\n",
        "        unique_distances = np.unique(distances)\n",
        "\n",
        "        # Create dictionary that maps a distance from data[idx] to the ith data point to its index in data \n",
        "        index_distance = {}\n",
        "        for index, distance in enumerate(distances):\n",
        "          if index != idx:\n",
        "            index_distance[distance] = index\n",
        "        print(index_distance)\n",
        "\n",
        "        unique_distances = np.delete(unique_distances, idx)\n",
        "        unique_distances.sort()\n",
        "        top_k_nearest_neighbors = np.array([ index_distance[distance] for distance in unique_distances])\n",
        "        return top_k_nearest_neighbors[:self.k]\n",
        "\n",
        "  def set_point_target(self,indexes,target_data):\n",
        "    #falta hacer la documentación\n",
        "    frequency = dict((k,0) for k in target_data)\n",
        "\n",
        "    for c in range(indexes.size):\n",
        "      result = target_data[indexes[c]]\n",
        "      frequency[result]+=1\n",
        "    \n",
        "    most_freq = -1\n",
        "    classfreq = -1\n",
        "    for clas,freq in frequency.items():\n",
        "      if freq > most_freq:\n",
        "        most_freq = freq\n",
        "        classfreq = clas\n",
        "\n",
        "    return classfreq\n",
        "\n",
        "      "
      ],
      "execution_count": 89,
      "outputs": []
    },
    {
      "cell_type": "code",
      "metadata": {
        "id": "4h1pjba2wouz",
        "outputId": "f2f7c7d1-7e67-4c6a-bc6e-b75f4b9d8fd9",
        "colab": {
          "base_uri": "https://localhost:8080/"
        }
      },
      "source": [
        "X.shape"
      ],
      "execution_count": 90,
      "outputs": [
        {
          "output_type": "execute_result",
          "data": {
            "text/plain": [
              "(150, 2)"
            ]
          },
          "metadata": {
            "tags": []
          },
          "execution_count": 90
        }
      ]
    },
    {
      "cell_type": "code",
      "metadata": {
        "id": "K_xuAKShflBq",
        "outputId": "78791ce9-c67a-4374-a8e2-10bca5d27a03",
        "colab": {
          "base_uri": "https://localhost:8080/",
          "height": 437
        }
      },
      "source": [
        "#lo probamos haciendo uso de la base de datos cargada anteriormente\n",
        "knn = KNN(3)\n",
        "indexes = knn.get_k_nearest_neighbors(4,X)\n",
        "#error con algunos números, tira indices repetidos\n",
        "indexes\n",
        "#target = knn.set_point_target(indexes,Y)\n",
        "#y[4] = target\n",
        "#for i in indexes :\n",
        "#  if i!=4:\n",
        "#    print(knn.euclidean_distance(point,X[i]))"
      ],
      "execution_count": 91,
      "outputs": [
        {
          "output_type": "stream",
          "text": [
            "{0.1414213562373093: 21, 0.608276253029822: 1, 0.49999999999999983: 29, 0.6403124237432851: 3, 0.5000000000000001: 16, 0.4472135954999583: 31, 0.20000000000000018: 26, 0.9219544457292886: 64, 0.5099019513592784: 34, 0.4123105625617664: 10, 0.2828427124746193: 28, 0.632455532033676: 45, 0.9219544457292889: 95, 0.8944271909999156: 14, 1.0630145812734653: 99, 0.7280109889280519: 18, 0.22360679774997858: 46, 0.40000000000000036: 22, 0.31622776601683805: 23, 0.6000000000000001: 25, 0.22360679774997916: 27, 0.5385164807134505: 30, 0.53851648071345: 32, 0.7810249675906655: 33, 0.3999999999999999: 35, 0.5099019513592785: 36, 0.09999999999999964: 37, 0.8485281374238569: 88, 0.22360679774997896: 39, 0.10000000000000009: 43, 1.392838827718412: 53, 0.7211102550927976: 42, 0.5656854249492381: 47, 0.31622776601683783: 48, 0.30000000000000027: 49, 2.039607805437114: 50, 1.456021977856104: 115, 1.9646882704388504: 141, 1.7000000000000002: 54, 1.3341664064126333: 100, 1.2041594578792296: 57, 1.7464249196572978: 58, 1.6: 60, 1.081665382639197: 149, 1.7204650534085253: 119, 1.3038404810405295: 63, 1.7720045146669352: 140, 1.2041594578792294: 142, 1.8439088914585775: 68, 1.2529964086141667: 69, 0.9848857801796107: 70, 1.3601470508735443: 73, 1.70293863659264: 146, 1.5652475842498532: 74, 1.708800749063506: 75, 1.969771560359221: 76, 1.8027756377319948: 145, 1.2206555615733703: 79, 1.3: 81, 1.345362404707371: 83, 0.7211102550927981: 84, 1.019803902718557: 85, 1.8384776310850235: 87, 1.2083045973594573: 89, 1.118033988749895: 90, 1.2529964086141665: 127, 1.2806248474865696: 92, 1.3000000000000003: 93, 1.0816653826391966: 94, 0.9899494936611668: 96, 1.3892443989449808: 97, 1.104536101718726: 106, 2.184032966784155: 102, 1.4764823060233399: 103, 1.6155494421403513: 147, 2.6683328128252666: 105, 2.4041630560342613: 107, 2.024845673131659: 108, 2.2: 109, 1.5524174696260025: 110, 1.664331697709324: 111, 1.8973665961010275: 112, 1.30384048104053: 113, 1.1313708498984762: 114, 2.7073972741361767: 117, 2.879236009777594: 118, 1.9416487838947603: 120, 1.0: 121, 2.816025568065745: 122, 1.5811388300841893: 123, 1.726267650163207: 144, 2.23606797749979: 125, 1.442220510185596: 126, 1.6124515496597103: 132, 2.280350850198276: 129, 2.529822128134704: 130, 2.906888370749727: 131, 1.5264337522473748: 133, 1.4866068747318502: 134, 2.7658633371878665: 135, 1.3152946437965904: 136, 1.4866068747318508: 137, 1.1661903789690602: 138, 1.8439088914585773: 143, 1.216552506059644: 148}\n"
          ],
          "name": "stdout"
        },
        {
          "output_type": "error",
          "ename": "KeyError",
          "evalue": "ignored",
          "traceback": [
            "\u001b[0;31m---------------------------------------------------------------------------\u001b[0m",
            "\u001b[0;31mKeyError\u001b[0m                                  Traceback (most recent call last)",
            "\u001b[0;32m<ipython-input-91-b45f8bc6e840>\u001b[0m in \u001b[0;36m<module>\u001b[0;34m()\u001b[0m\n\u001b[1;32m      1\u001b[0m \u001b[0;31m#lo probamos haciendo uso de la base de datos cargada anteriormente\u001b[0m\u001b[0;34m\u001b[0m\u001b[0;34m\u001b[0m\u001b[0;34m\u001b[0m\u001b[0m\n\u001b[1;32m      2\u001b[0m \u001b[0mknn\u001b[0m \u001b[0;34m=\u001b[0m \u001b[0mKNN\u001b[0m\u001b[0;34m(\u001b[0m\u001b[0;36m3\u001b[0m\u001b[0;34m)\u001b[0m\u001b[0;34m\u001b[0m\u001b[0;34m\u001b[0m\u001b[0m\n\u001b[0;32m----> 3\u001b[0;31m \u001b[0mindexes\u001b[0m \u001b[0;34m=\u001b[0m \u001b[0mknn\u001b[0m\u001b[0;34m.\u001b[0m\u001b[0mget_k_nearest_neighbors\u001b[0m\u001b[0;34m(\u001b[0m\u001b[0;36m4\u001b[0m\u001b[0;34m,\u001b[0m\u001b[0mX\u001b[0m\u001b[0;34m)\u001b[0m\u001b[0;34m\u001b[0m\u001b[0;34m\u001b[0m\u001b[0m\n\u001b[0m\u001b[1;32m      4\u001b[0m \u001b[0;31m#error con algunos números, tira indices repetidos\u001b[0m\u001b[0;34m\u001b[0m\u001b[0;34m\u001b[0m\u001b[0;34m\u001b[0m\u001b[0m\n\u001b[1;32m      5\u001b[0m \u001b[0mindexes\u001b[0m\u001b[0;34m\u001b[0m\u001b[0;34m\u001b[0m\u001b[0m\n",
            "\u001b[0;32m<ipython-input-89-5ac44ffe4960>\u001b[0m in \u001b[0;36mget_k_nearest_neighbors\u001b[0;34m(self, idx, data)\u001b[0m\n\u001b[1;32m     56\u001b[0m         \u001b[0munique_distances\u001b[0m \u001b[0;34m=\u001b[0m \u001b[0mnp\u001b[0m\u001b[0;34m.\u001b[0m\u001b[0mdelete\u001b[0m\u001b[0;34m(\u001b[0m\u001b[0munique_distances\u001b[0m\u001b[0;34m,\u001b[0m \u001b[0midx\u001b[0m\u001b[0;34m)\u001b[0m\u001b[0;34m\u001b[0m\u001b[0;34m\u001b[0m\u001b[0m\n\u001b[1;32m     57\u001b[0m         \u001b[0munique_distances\u001b[0m\u001b[0;34m.\u001b[0m\u001b[0msort\u001b[0m\u001b[0;34m(\u001b[0m\u001b[0;34m)\u001b[0m\u001b[0;34m\u001b[0m\u001b[0;34m\u001b[0m\u001b[0m\n\u001b[0;32m---> 58\u001b[0;31m         \u001b[0mtop_k_nearest_neighbors\u001b[0m \u001b[0;34m=\u001b[0m \u001b[0mnp\u001b[0m\u001b[0;34m.\u001b[0m\u001b[0marray\u001b[0m\u001b[0;34m(\u001b[0m\u001b[0;34m[\u001b[0m \u001b[0mindex_distance\u001b[0m\u001b[0;34m[\u001b[0m\u001b[0mdistance\u001b[0m\u001b[0;34m]\u001b[0m \u001b[0;32mfor\u001b[0m \u001b[0mdistance\u001b[0m \u001b[0;32min\u001b[0m \u001b[0munique_distances\u001b[0m\u001b[0;34m]\u001b[0m\u001b[0;34m)\u001b[0m\u001b[0;34m\u001b[0m\u001b[0;34m\u001b[0m\u001b[0m\n\u001b[0m\u001b[1;32m     59\u001b[0m         \u001b[0;32mreturn\u001b[0m \u001b[0mtop_k_nearest_neighbors\u001b[0m\u001b[0;34m[\u001b[0m\u001b[0;34m:\u001b[0m\u001b[0mself\u001b[0m\u001b[0;34m.\u001b[0m\u001b[0mk\u001b[0m\u001b[0;34m]\u001b[0m\u001b[0;34m\u001b[0m\u001b[0;34m\u001b[0m\u001b[0m\n\u001b[1;32m     60\u001b[0m \u001b[0;34m\u001b[0m\u001b[0m\n",
            "\u001b[0;32m<ipython-input-89-5ac44ffe4960>\u001b[0m in \u001b[0;36m<listcomp>\u001b[0;34m(.0)\u001b[0m\n\u001b[1;32m     56\u001b[0m         \u001b[0munique_distances\u001b[0m \u001b[0;34m=\u001b[0m \u001b[0mnp\u001b[0m\u001b[0;34m.\u001b[0m\u001b[0mdelete\u001b[0m\u001b[0;34m(\u001b[0m\u001b[0munique_distances\u001b[0m\u001b[0;34m,\u001b[0m \u001b[0midx\u001b[0m\u001b[0;34m)\u001b[0m\u001b[0;34m\u001b[0m\u001b[0;34m\u001b[0m\u001b[0m\n\u001b[1;32m     57\u001b[0m         \u001b[0munique_distances\u001b[0m\u001b[0;34m.\u001b[0m\u001b[0msort\u001b[0m\u001b[0;34m(\u001b[0m\u001b[0;34m)\u001b[0m\u001b[0;34m\u001b[0m\u001b[0;34m\u001b[0m\u001b[0m\n\u001b[0;32m---> 58\u001b[0;31m         \u001b[0mtop_k_nearest_neighbors\u001b[0m \u001b[0;34m=\u001b[0m \u001b[0mnp\u001b[0m\u001b[0;34m.\u001b[0m\u001b[0marray\u001b[0m\u001b[0;34m(\u001b[0m\u001b[0;34m[\u001b[0m \u001b[0mindex_distance\u001b[0m\u001b[0;34m[\u001b[0m\u001b[0mdistance\u001b[0m\u001b[0;34m]\u001b[0m \u001b[0;32mfor\u001b[0m \u001b[0mdistance\u001b[0m \u001b[0;32min\u001b[0m \u001b[0munique_distances\u001b[0m\u001b[0;34m]\u001b[0m\u001b[0;34m)\u001b[0m\u001b[0;34m\u001b[0m\u001b[0;34m\u001b[0m\u001b[0m\n\u001b[0m\u001b[1;32m     59\u001b[0m         \u001b[0;32mreturn\u001b[0m \u001b[0mtop_k_nearest_neighbors\u001b[0m\u001b[0;34m[\u001b[0m\u001b[0;34m:\u001b[0m\u001b[0mself\u001b[0m\u001b[0;34m.\u001b[0m\u001b[0mk\u001b[0m\u001b[0;34m]\u001b[0m\u001b[0;34m\u001b[0m\u001b[0;34m\u001b[0m\u001b[0m\n\u001b[1;32m     60\u001b[0m \u001b[0;34m\u001b[0m\u001b[0m\n",
            "\u001b[0;31mKeyError\u001b[0m: 0.0"
          ]
        }
      ]
    },
    {
      "cell_type": "code",
      "metadata": {
        "id": "EmDOiv1vkAv5",
        "outputId": "b3223be1-ded2-48af-8eb1-310020b5e553",
        "colab": {
          "base_uri": "https://localhost:8080/"
        }
      },
      "source": [
        "#lo probamos haciendo uso de una \"base de datos\" creada por nosotros\n",
        "testdb_two = np.array([[40.0,30.4],[4.0,5.0],[3.0,8.0],[4.0,10.2],[20.0,0.0],[3.0,8.1]])\n",
        "knn.get_k_nearest_neighbors(3,testdb_two)\n",
        "\n",
        "\n",
        "\n"
      ],
      "execution_count": 77,
      "outputs": [
        {
          "output_type": "stream",
          "text": [
            "{41.28001937984041: 0, 5.199999999999999: 1, 2.4166091947189137: 2, 18.97472002428494: 4, 2.325940669922601: 5}\n"
          ],
          "name": "stdout"
        },
        {
          "output_type": "execute_result",
          "data": {
            "text/plain": [
              "array([5, 2, 1])"
            ]
          },
          "metadata": {
            "tags": []
          },
          "execution_count": 77
        }
      ]
    }
  ]
}