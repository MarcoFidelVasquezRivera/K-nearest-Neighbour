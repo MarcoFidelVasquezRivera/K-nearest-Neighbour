{
  "nbformat": 4,
  "nbformat_minor": 0,
  "metadata": {
    "colab": {
      "name": "KNN.ipynb",
      "provenance": [],
      "collapsed_sections": [],
      "include_colab_link": true
    },
    "kernelspec": {
      "name": "python3",
      "display_name": "Python 3"
    }
  },
  "cells": [
    {
      "cell_type": "markdown",
      "metadata": {
        "id": "view-in-github",
        "colab_type": "text"
      },
      "source": [
        "<a href=\"https://colab.research.google.com/github/MarcoFidelVasquezRivera/K-nearest-Neighbour/blob/Marco/KNN.ipynb\" target=\"_parent\"><img src=\"https://colab.research.google.com/assets/colab-badge.svg\" alt=\"Open In Colab\"/></a>"
      ]
    },
    {
      "cell_type": "code",
      "metadata": {
        "id": "W6I0ZvlANWLG"
      },
      "source": [
        "import numpy as np\n",
        "import pandas as pd\n",
        "import sklearn #se importa para obtener un dataset\n",
        "import matplotlib.pyplot as plt#se importa para poder realizar la gráfica con los datos\n",
        "\n",
        "from sklearn import datasets\n",
        "#obtiene los datos desde iris\n",
        "iris = datasets.load_iris()"
      ],
      "execution_count": 23,
      "outputs": []
    },
    {
      "cell_type": "code",
      "metadata": {
        "id": "8fQCZ8yKcwnb",
        "colab": {
          "base_uri": "https://localhost:8080/",
          "height": 286
        },
        "outputId": "0b77eca8-9623-47fc-97eb-77baa206f6a3"
      },
      "source": [
        "X = iris.data[:, :2]\n",
        "Y = iris.target\n",
        "plt.scatter(X[:,0],X[:,1])"
      ],
      "execution_count": 3,
      "outputs": [
        {
          "output_type": "execute_result",
          "data": {
            "text/plain": [
              "<matplotlib.collections.PathCollection at 0x7f66d5ed45f8>"
            ]
          },
          "metadata": {
            "tags": []
          },
          "execution_count": 3
        },
        {
          "output_type": "display_data",
          "data": {
            "image/png": "[encoded data removed]",
            "text/plain": [
              "<Figure size 432x288 with 1 Axes>"
            ]
          },
          "metadata": {
            "tags": [],
            "needs_background": "light"
          }
        }
      ]
    },
    {
      "cell_type": "code",
      "metadata": {
        "id": "HLCajQ7WeBv6"
      },
      "source": [
        "import math\n",
        "#definimos la clase KNN\n",
        "class KNN:\n",
        "\n",
        "  def __init__(self,k):\n",
        "    self.k = k\n",
        "\n",
        "  def euclidean_distance(self, idx1, idx2, data, axis=0):\n",
        "    \"\"\"    Returns the euclidean distance between x and y.\n",
        "\n",
        "            Preconditions:\n",
        "                    the dimensions of x and y must be the same\n",
        "\n",
        "            Parameters:\n",
        "                    x (n-dimensional numpy array): an array of integers\n",
        "                    y (n-dimensional numpy array): an array of integers\n",
        "                    axis (int): axis in which we are working\n",
        "\n",
        "            Returns:\n",
        "                    int): distance between x and y on the axis axis.\n",
        "    \"\"\"\n",
        "    return np.linalg.norm( data[idx1] - data[idx2], axis=axis)\n",
        "\n",
        "  def get_k_nearest_neighboors(self, idx, data):\n",
        "        \"\"\"\n",
        "        Returns the K nearest neighboors of the point.\n",
        "\n",
        "        Preconditions:\n",
        "                the dimensions of point and the points on data must be the same\n",
        "\n",
        "        Parameters:\n",
        "                idx (int): the index of the point which we are going to get the distance with the other points\n",
        "                data: an n-dimensional numpy array\n",
        "        Postcondition:\n",
        "                the distance of this point to itself is not going to be returned\n",
        "        Returns:\n",
        "                response (int): an array with the indexes of the k nearest neighboors of the point with index idx.\n",
        "        \"\"\"\n",
        "        # Calculate the distances from datapoint in idx with every other datapoint in data \n",
        "        distances = np.array([  self.euclidean_distance(idx, i, data) for i in range(len(data)) ])\n",
        "        # Maps from distance to the index in data excluding idx\n",
        "        index_distance = dict((distance, index) for index, distance in enumerate(distances) if index != idx)\n",
        "        distances = np.delete(distances, idx)\n",
        "        distances.sort()\n",
        "        top_k_nearest_neighbors = np.array([ index_distance[distance] for distance in distances])\n",
        "        response = []\n",
        "\n",
        "        i = 0\n",
        "        # This ensures that only non-duplicate indexes are returned\n",
        "        while len(response) < self.k:\n",
        "          kth_nearest = top_k_nearest_neighbors[i]\n",
        "          if kth_nearest not in response:\n",
        "            response.append(kth_nearest)\n",
        "          i+=1\n",
        "        return np.array(response)\n",
        "\n",
        "  def set_point_target(self,indexes,target_data):\n",
        "    \"\"\"\n",
        "    Returns the the most frequent class among the k nearest neightbors.\n",
        "\n",
        "    Preconditions:\n",
        "      The k nearest neightbors must have been found.\n",
        "    Parameters:\n",
        "      idexes (int): the indexes of the k neares neightbors\n",
        "      target_data (int): a list of the classes of every point\n",
        "    Returns:\n",
        "      classfreq (int): the most frequent class among the k nearest neightbors\n",
        "    \"\"\"\n",
        "    #falta hacer la documentación\n",
        "    frequency = dict((k,0) for k in target_data)\n",
        "\n",
        "    for index in indexes:\n",
        "      result = target_data[index]\n",
        "      frequency[result]+=1\n",
        "    \n",
        "    most_freq = -1\n",
        "    classfreq = -1\n",
        "    for clas,freq in frequency.items():\n",
        "      if freq > most_freq:\n",
        "        most_freq = freq\n",
        "        classfreq = clas\n",
        "\n",
        "    return classfreq\n",
        "\n",
        "    # fit\n",
        "  def fit(self, X, targets):\n",
        "    \"\"\"\n",
        "    trains the model using a dataset.\n",
        "\n",
        "    Preconditions:\n",
        "      the length of the dataset and the targets must be the same.\n",
        "\n",
        "    Parameters:\n",
        "      X : the dataset with all the points to train the model\n",
        "      targets: a list of the classes of every point\n",
        "    Postcondition:\n",
        "      the model is trained and ready to predict with a good hit rate\n",
        "    \"\"\"\n",
        "    # k \n",
        "    self.data = X\n",
        "    self.index_to_class = {} # inicializa un arreglo que mapea, desde los indixes\n",
        "    for datapoint_idx in range(len(X)):\n",
        "      k_nearest = self.get_k_nearest_neighboors(datapoint_idx,self.data)\n",
        "      classfreq = self.set_point_target(k_nearest,targets)\n",
        "      self.index_to_class[datapoint_idx] = classfreq\n",
        "    self.targets = targets\n",
        "\n",
        "  def predict(self,datapoint):\n",
        "    \"\"\"\n",
        "    Predict the classes for points it gets as input.\n",
        "\n",
        "    Preconditions:\n",
        "      the fitmethod must have been run at least once\n",
        "    Parameters:\n",
        "      datapoint : A list with all the points which their class will be predicted\n",
        "    Returns:\n",
        "      predictions : the class fredicted for each point\n",
        "    \"\"\"\n",
        "    predictions = []\n",
        "    if datapoint.shape[-1]==self.data.shape[-1]:\n",
        "\n",
        "\n",
        "      for datapoint_idx in range(len(datapoint)):\n",
        "        expanded_i_datapoint = np.expand_dims(datapoint[datapoint_idx],0)\n",
        "        matrix = np.concatenate((self.data,expanded_i_datapoint),0)\n",
        "        k_nearest = self.get_k_nearest_neighboors(matrix.shape[0]-1,matrix)\n",
        "        classfreq = self.set_point_target(k_nearest,self.targets)\n",
        "        predictions.append(classfreq)\n",
        "    return np.array(predictions)\n",
        "\n"
      ],
      "execution_count": 15,
      "outputs": []
    },
    {
      "cell_type": "code",
      "metadata": {
        "id": "4h1pjba2wouz"
      },
      "source": [
        "n_train_samples = int((X.shape[0])*0.8)\n",
        "random_indexes = np.arange(X.shape[0]-1)\n",
        "np.random.shuffle(random_indexes)\n",
        "\n",
        "indexes_train = random_indexes[:n_train_samples]\n",
        "indexes_test = random_indexes[n_train_samples:]\n",
        "#se sacan los datos para entrenar y para probar el algoritmo\n",
        "x_train = X[indexes_train]\n",
        "x_test = X[indexes_test]\n",
        "\n",
        "y_train = Y[indexes_train]\n",
        "y_test = Y[indexes_test]"
      ],
      "execution_count": 16,
      "outputs": []
    },
    {
      "cell_type": "code",
      "metadata": {
        "id": "K_xuAKShflBq"
      },
      "source": [
        "#lo probamos haciendo uso de la base de datos cargada anteriormente\n",
        "knn = KNN(30)\n",
        "knn.fit(x_train,y_train)"
      ],
      "execution_count": 17,
      "outputs": []
    },
    {
      "cell_type": "code",
      "metadata": {
        "id": "EmDOiv1vkAv5"
      },
      "source": [
        "y_hat = knn.predict(x_test)"
      ],
      "execution_count": 18,
      "outputs": []
    },
    {
      "cell_type": "code",
      "metadata": {
        "colab": {
          "base_uri": "https://localhost:8080/"
        },
        "id": "UniobjecCec1",
        "outputId": "43a30e5e-ddb0-4ef8-fd51-9c9749b66623"
      },
      "source": [
        "n_correct = (y_hat==y_test).sum()\n",
        "correct_ratio = n_correct/len(y_test)\n",
        "correct_ratio"
      ],
      "execution_count": 19,
      "outputs": [
        {
          "output_type": "execute_result",
          "data": {
            "text/plain": [
              "0.7931034482758621"
            ]
          },
          "metadata": {
            "tags": []
          },
          "execution_count": 19
        }
      ]
    },
    {
      "cell_type": "code",
      "metadata": {
        "id": "4pvY0iVSE6xW"
      },
      "source": [
        "def get_accuracy(k):\n",
        "  knn = KNN(k)\n",
        "  knn.fit(x_train,y_train)\n",
        "  y_hat = knn.predict(x_test)\n",
        "  n_correct = (y_hat==y_test).sum()\n",
        "  correct_ratio = n_correct/len(y_test)\n",
        "  return correct_ratio"
      ],
      "execution_count": 20,
      "outputs": []
    },
    {
      "cell_type": "code",
      "metadata": {
        "id": "OI1CcEKKFQUK",
        "colab": {
          "base_uri": "https://localhost:8080/",
          "height": 283
        },
        "outputId": "a271f060-dd3d-4684-b14a-dfb16dc90e1d"
      },
      "source": [
        "n_k = np.arange(30)\n",
        "accuracies = [get_accuracy(k) for k in n_k]\n",
        "plt.plot(n_k,accuracies)"
      ],
      "execution_count": 21,
      "outputs": [
        {
          "output_type": "execute_result",
          "data": {
            "text/plain": [
              "[<matplotlib.lines.Line2D at 0x7f66d592add8>]"
            ]
          },
          "metadata": {
            "tags": []
          },
          "execution_count": 21
        },
        {
          "output_type": "display_data",
          "data": {
            "image/png": "[encoded data removed]",
            "text/plain": [
              "<Figure size 432x288 with 1 Axes>"
            ]
          },
          "metadata": {
            "tags": [],
            "needs_background": "light"
          }
        }
      ]
    }
  ]
}